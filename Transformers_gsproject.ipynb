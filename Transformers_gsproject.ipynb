{
  "nbformat": 4,
  "nbformat_minor": 0,
  "metadata": {
    "colab": {
      "provenance": [],
      "collapsed_sections": [
        "dnISORhIrw4v",
        "5uf-6EvVdB_h"
      ],
      "gpuType": "T4",
      "mount_file_id": "1Dk_N03H3dQIMp4NmlCKg-96iajIR1VPE",
      "authorship_tag": "ABX9TyN1sWFVv0NhofcsoyinkAAS",
      "include_colab_link": true
    },
    "kernelspec": {
      "name": "python3",
      "display_name": "Python 3"
    },
    "language_info": {
      "name": "python"
    }
  },
  "cells": [
    {
      "cell_type": "markdown",
      "metadata": {
        "id": "view-in-github",
        "colab_type": "text"
      },
      "source": [
        "<a href=\"https://colab.research.google.com/github/Manuel0104/Flaw-detection-in-steal-pipes-using-transformer-neural-networks-architecture/blob/main/Transformers_gsproject.ipynb\" target=\"_parent\"><img src=\"https://colab.research.google.com/assets/colab-badge.svg\" alt=\"Open In Colab\"/></a>"
      ]
    },
    {
      "cell_type": "markdown",
      "source": [
        "# **DATA AUGMENTATION**"
      ],
      "metadata": {
        "id": "dnISORhIrw4v"
      }
    },
    {
      "cell_type": "code",
      "source": [
        "from google.colab import drive\n",
        "drive.mount('/content/drive')"
      ],
      "metadata": {
        "colab": {
          "base_uri": "https://localhost:8080/"
        },
        "id": "Y3rjstE8CUUr",
        "outputId": "92d5afbd-9c5c-477a-d36a-4b33e0e52974"
      },
      "execution_count": null,
      "outputs": [
        {
          "output_type": "stream",
          "name": "stdout",
          "text": [
            "Mounted at /content/drive\n"
          ]
        }
      ]
    },
    {
      "cell_type": "code",
      "execution_count": null,
      "metadata": {
        "id": "MlHZOaMOCFlk"
      },
      "outputs": [],
      "source": [
        "import glob\n",
        "import numpy as np\n",
        "import pandas as pd\n",
        "import matplotlib.pyplot as plt\n",
        "from scipy import signal\n",
        "from scipy.signal import hilbert, butter, filtfilt"
      ]
    },
    {
      "cell_type": "code",
      "source": [
        "path = '/content/drive/MyDrive/DATASET_11052023/Random /*.csv'\n",
        "data_csv = glob.glob(path)\n",
        "data_csv.sort()  # sort the list of file names\n",
        "\n",
        "dfs = []\n",
        "for file in data_csv:\n",
        "    df = pd.read_csv(file)\n",
        "    dfs.append(df)"
      ],
      "metadata": {
        "id": "IU8WD-vKCRWP"
      },
      "execution_count": null,
      "outputs": []
    },
    {
      "cell_type": "code",
      "source": [
        "data_csv_names = np.array(data_csv)\n",
        "data_csv_names.shape[0]"
      ],
      "metadata": {
        "colab": {
          "base_uri": "https://localhost:8080/"
        },
        "id": "qzW2zSokHCJ4",
        "outputId": "86a5833e-3a8d-4fb4-c133-247338d61139"
      },
      "execution_count": null,
      "outputs": [
        {
          "output_type": "execute_result",
          "data": {
            "text/plain": [
              "18"
            ]
          },
          "metadata": {},
          "execution_count": 4
        }
      ]
    },
    {
      "cell_type": "code",
      "source": [
        "sg_shapes = []\n",
        "for i in range(data_csv_names.shape[0]):\n",
        "    signal_shapes = dfs[i].shape\n",
        "    sg_shapes.append(signal_shapes)\n",
        "\n",
        "sg_shapes = np.array(sg_shapes)\n",
        "\n",
        "signals = []\n",
        "for i in range(sg_shapes.shape[0]):\n",
        "    signal = dfs[i]\n",
        "    signal = np.array(signal)\n",
        "    signals.append(signal)"
      ],
      "metadata": {
        "id": "w36oyvqLCzaZ"
      },
      "execution_count": null,
      "outputs": []
    },
    {
      "cell_type": "code",
      "source": [
        "signals[5][:,1].shape"
      ],
      "metadata": {
        "colab": {
          "base_uri": "https://localhost:8080/"
        },
        "id": "lJJrIMk8tJCf",
        "outputId": "bae07cff-588c-4c83-992e-d549fe99cbd2"
      },
      "execution_count": null,
      "outputs": [
        {
          "output_type": "execute_result",
          "data": {
            "text/plain": [
              "(10001,)"
            ]
          },
          "metadata": {},
          "execution_count": 93
        }
      ]
    },
    {
      "cell_type": "code",
      "source": [
        "# initialize empty lists to store the time and amplitude arrays\n",
        "s_t = []\n",
        "s_a = []\n",
        "\n",
        "# iterate over the signals array and extract the time and amplitude arrays for each signal\n",
        "for i in range(sg_shapes.shape[0]):\n",
        "    s_t.append(signals[i][:, 0])\n",
        "    s_a.append(signals[i][:, 1])\n",
        "\n",
        "# Automate the variable assignments using a loop\n",
        "num_items = len(s_a)\n",
        "for i in range(num_items):\n",
        "    a_name = f\"a{i+1}\"  # Generate the variable name dynamically\n",
        "    t_name = f\"t{i+1}\"\n",
        "    locals()[a_name] = s_a[i]  # Assign value to dynamically generated variable\n",
        "    locals()[t_name] = s_t[i]"
      ],
      "metadata": {
        "id": "l3as3m8kSoZV"
      },
      "execution_count": null,
      "outputs": []
    },
    {
      "cell_type": "code",
      "source": [
        "for i in range(18):\n",
        "    if np.allclose(signals[i][:, 1], s_a[i]):\n",
        "        print(f\"Index {i}: Matched\")\n",
        "    else:\n",
        "        print(f\"Index {i}: Not matched\")"
      ],
      "metadata": {
        "colab": {
          "base_uri": "https://localhost:8080/"
        },
        "id": "vMKiaX_0q-sY",
        "outputId": "5155372d-1812-4f22-c3e0-332b312185d7"
      },
      "execution_count": null,
      "outputs": [
        {
          "output_type": "stream",
          "name": "stdout",
          "text": [
            "Index 0: Matched\n",
            "Index 1: Matched\n",
            "Index 2: Matched\n",
            "Index 3: Matched\n",
            "Index 4: Matched\n",
            "Index 5: Matched\n",
            "Index 6: Matched\n",
            "Index 7: Matched\n",
            "Index 8: Matched\n",
            "Index 9: Matched\n",
            "Index 10: Matched\n",
            "Index 11: Matched\n",
            "Index 12: Matched\n",
            "Index 13: Matched\n",
            "Index 14: Matched\n",
            "Index 15: Matched\n",
            "Index 16: Matched\n",
            "Index 17: Matched\n"
          ]
        }
      ]
    },
    {
      "cell_type": "code",
      "source": [
        "# create a pandas dataframe from the data\n",
        "df = pd.DataFrame(s_a)\n",
        "df = df.transpose()\n",
        "columns=['F1','F2','F3','F4','ND1','ND2','ND3','ND4','ND5','ND6','ND7','ND8','ND9','ND91','ND92','ND93','ND94','ND95']\n",
        "df.columns = columns\n",
        "df.to_csv('unfiltered_signals.csv', index=False)"
      ],
      "metadata": {
        "id": "GqHPTe7qobUR"
      },
      "execution_count": null,
      "outputs": []
    },
    {
      "cell_type": "markdown",
      "source": [
        "***FILTERED SIGNAL***\n",
        "\n",
        "---\n",
        "\n"
      ],
      "metadata": {
        "id": "Zh6LHrRmAY-8"
      }
    },
    {
      "cell_type": "code",
      "source": [
        "filtered_signal_list = []  # List to store the filtered signals\n",
        "\n",
        "for i in range(1, 19):\n",
        "    t = globals()['t{}'.format(i)]\n",
        "    amp = globals()['a{}'.format(i)]\n",
        "    fs = (len(t) - 1) / (t[len(t)-1] - t[0])\n",
        "\n",
        "    # Compute the FFT of the signal\n",
        "    fft_x = np.fft.fft(amp)\n",
        "    # Compute the frequency axis (in Hz)\n",
        "    freq_domain = np.fft.fftfreq(len(amp), d=1/fs)\n",
        "\n",
        "    # Plot only the positive half of the FFT (excluding the DC component)\n",
        "    pos_mask = freq_domain > 0\n",
        "    freqs_pos = freq_domain[pos_mask]\n",
        "    fft_x_pos = np.abs(fft_x[pos_mask])\n",
        "    fft_x_pos /= np.max(fft_x_pos)\n",
        "\n",
        "    # Define the filter parameters\n",
        "    f1 = 450000   # Lower cutoff frequency\n",
        "    f2 = 650000  # Upper cutoff frequency\n",
        "    order = 4    # Filter order\n",
        "\n",
        "    # Create the Butterworth bandpass filter\n",
        "    nyquist = 0.5 * fs\n",
        "    low = f1 / nyquist\n",
        "    high = f2 / nyquist\n",
        "    b, a = butter(order, [low, high], btype='band')\n",
        "\n",
        "    # Apply the filter to the signal\n",
        "    filtered_signal = filtfilt(b, a, amp)\n",
        "    env_filtered_signal = np.abs(hilbert(filtered_signal))\n",
        "    fft_f_signal = np.fft.fft(filtered_signal)\n",
        "    fft_f_signal_abs = np.abs(fft_f_signal[pos_mask])\n",
        "\n",
        "    filtered_signal_list.append(filtered_signal)"
      ],
      "metadata": {
        "id": "bLNcKaWNONON"
      },
      "execution_count": null,
      "outputs": []
    },
    {
      "cell_type": "code",
      "source": [
        "index = 18\n",
        "t = t18\n",
        "amp = a18\n",
        "\n",
        "# Plot the original signal, the filtered signal, and the inverse FFT of the filtered signal\n",
        "fig, ax = plt.subplots(2, figsize=(10,6))\n",
        "ax[0].plot(t, filtered_signal_list[index-1])\n",
        "ax[0].set_xlabel('Time (s)')\n",
        "ax[0].set_ylabel('Amplitude')\n",
        "ax[0].set_title('Filtered Signal')\n",
        "\n",
        "ax[1].plot(t,amp)\n",
        "ax[1].set_xlabel('Time (s)')\n",
        "ax[1].set_ylabel('Amplitude')\n",
        "ax[1].set_title('Original Signal')\n",
        "\n",
        "plt.show()"
      ],
      "metadata": {
        "colab": {
          "base_uri": "https://localhost:8080/",
          "height": 564
        },
        "id": "7jv2h1Anw7pC",
        "outputId": "4096f8c7-4b00-4136-b1e6-1e14e8748515"
      },
      "execution_count": null,
      "outputs": [
        {
          "output_type": "display_data",
          "data": {
            "text/plain": [
              "<Figure size 1000x600 with 2 Axes>"
            ],
            "image/png": "[encoded data removed]"
          },
          "metadata": {}
        }
      ]
    },
    {
      "cell_type": "code",
      "source": [
        "# create a pandas dataframe from the data\n",
        "df = pd.DataFrame(filtered_signal_list)\n",
        "df = df.transpose()\n",
        "columns=['F1','F2','F3','F4','ND1','ND2','ND3','ND4','ND5','ND6','ND7','ND8','ND9','ND91','ND92','ND93','ND94','ND95']\n",
        "df.columns = columns\n",
        "df.to_csv('filtered_signals.csv', index=False)"
      ],
      "metadata": {
        "id": "SlfYjUF463J1"
      },
      "execution_count": null,
      "outputs": []
    },
    {
      "cell_type": "markdown",
      "source": [
        "***NOISY SIGNAL***\n",
        "\n",
        "---"
      ],
      "metadata": {
        "id": "OfdV1lFt0C5d"
      }
    },
    {
      "cell_type": "code",
      "source": [
        "# Generate white noise with a given standard deviation and shape\n",
        "def generate_white_noise(shape, std_dev):\n",
        "    return np.random.normal(0, std_dev, shape)\n",
        "\n",
        "# Add white noise to a signal\n",
        "def add_white_noise(signal, snr_db):\n",
        "    signal_with_noise = []\n",
        "    for i in range(len(signal)):\n",
        "        curr_signal = signal[i]\n",
        "        signal_power = np.sum(curr_signal**2) / curr_signal.size\n",
        "        noise_power = signal_power / 10**(snr_db/10)\n",
        "        noise = generate_white_noise(curr_signal.shape, np.sqrt(noise_power))\n",
        "        signal_with_noise.append(curr_signal + noise)\n",
        "    return signal_with_noise\n",
        "\n",
        "signal_with_noise = add_white_noise(s_a, 20)"
      ],
      "metadata": {
        "id": "sjP3iFsn0JYl"
      },
      "execution_count": null,
      "outputs": []
    },
    {
      "cell_type": "code",
      "source": [
        "index = 1\n",
        "t = t1\n",
        "amp = a1\n",
        "\n",
        "# Plot the original signal, the filtered signal, and the inverse FFT of the filtered signal\n",
        "fig, ax = plt.subplots(2, figsize=(10,6))\n",
        "ax[0].plot(t, signal_with_noise[index-1])\n",
        "ax[0].set_xlabel('Time (s)')\n",
        "ax[0].set_ylabel('Amplitude')\n",
        "ax[0].set_title('Noisy Signal')\n",
        "\n",
        "ax[1].plot(t,amp)\n",
        "ax[1].set_xlabel('Time (s)')\n",
        "ax[1].set_ylabel('Amplitude')\n",
        "ax[1].set_title('Original Signal')\n",
        "\n",
        "plt.show()"
      ],
      "metadata": {
        "colab": {
          "base_uri": "https://localhost:8080/",
          "height": 564
        },
        "id": "ak1kDBdC1LeE",
        "outputId": "9cfbb496-b0cb-48b4-8556-3d6775c7bf61"
      },
      "execution_count": null,
      "outputs": [
        {
          "output_type": "display_data",
          "data": {
            "text/plain": [
              "<Figure size 1000x600 with 2 Axes>"
            ],
            "image/png": "[encoded data removed]"
          },
          "metadata": {}
        }
      ]
    },
    {
      "cell_type": "code",
      "source": [
        "# create a pandas dataframe from the data\n",
        "df = pd.DataFrame(signal_with_noise)\n",
        "df = df.transpose()\n",
        "columns=['F1','F2','F3','F4','ND1','ND2','ND3','ND4','ND5','ND6','ND7','ND8','ND9','ND91','ND92','ND93','ND94','ND95']\n",
        "df.columns = columns\n",
        "df.to_csv('noisy_signals.csv', index=False)"
      ],
      "metadata": {
        "id": "g126Iqmw1zOs"
      },
      "execution_count": null,
      "outputs": []
    },
    {
      "cell_type": "markdown",
      "source": [
        "# **DATA PREPARATION**"
      ],
      "metadata": {
        "id": "5uf-6EvVdB_h"
      }
    },
    {
      "cell_type": "code",
      "source": [
        "import pandas as pd\n",
        "import numpy as np\n",
        "import matplotlib.pyplot as plt\n",
        "from sklearn.model_selection import train_test_split"
      ],
      "metadata": {
        "id": "ZXtkHRlHdEfX"
      },
      "execution_count": null,
      "outputs": []
    },
    {
      "cell_type": "code",
      "source": [
        "path_unfiltered_signals = '/content/drive/MyDrive/DATASET_GSPROJ_TRANSFARCH/unfiltered_signals.csv'\n",
        "path_filtered_signals = '/content/drive/MyDrive/DATASET_GSPROJ_TRANSFARCH/filtered_signals.csv'\n",
        "path_noisy_signals = '/content/drive/MyDrive/DATASET_GSPROJ_TRANSFARCH/noisy_signals.csv'\n",
        "\n",
        "df_unfiltered = pd.read_csv(path_unfiltered_signals)\n",
        "df_filtered = pd.read_csv(path_filtered_signals)\n",
        "df_noisy = pd.read_csv(path_noisy_signals)"
      ],
      "metadata": {
        "id": "Xd8QSJwXfs7-"
      },
      "execution_count": null,
      "outputs": []
    },
    {
      "cell_type": "code",
      "source": [
        "unfiltered_signals = np.array(df_unfiltered)\n",
        "filtered_signals = np.array(df_filtered)\n",
        "df_noisy = np.array(df_noisy)"
      ],
      "metadata": {
        "id": "mDW8ynXMjsOV"
      },
      "execution_count": null,
      "outputs": []
    },
    {
      "cell_type": "code",
      "source": [
        "unfiltered_signals.shape, filtered_signals.shape, df_noisy.shape"
      ],
      "metadata": {
        "colab": {
          "base_uri": "https://localhost:8080/"
        },
        "id": "ReSQuV6HkFEz",
        "outputId": "5efc7636-d785-440e-ec7e-9095ddb9416b"
      },
      "execution_count": null,
      "outputs": [
        {
          "output_type": "execute_result",
          "data": {
            "text/plain": [
              "((50002, 18), (50002, 18), (50002, 18))"
            ]
          },
          "metadata": {},
          "execution_count": 11
        }
      ]
    },
    {
      "cell_type": "code",
      "source": [
        "signals_dataset = np.concatenate((unfiltered_signals, filtered_signals, df_noisy), axis=1)\n",
        "signals_dataset.shape"
      ],
      "metadata": {
        "colab": {
          "base_uri": "https://localhost:8080/"
        },
        "id": "usJhJJ4Mkc_L",
        "outputId": "3a2292b8-7fd4-4ec9-f7d3-0dc4ace10877"
      },
      "execution_count": null,
      "outputs": [
        {
          "output_type": "execute_result",
          "data": {
            "text/plain": [
              "(50002, 54)"
            ]
          },
          "metadata": {},
          "execution_count": 15
        }
      ]
    },
    {
      "cell_type": "code",
      "source": [
        "df_Y = pd.DataFrame(signals_dataset)\n",
        "columns=['F1','F2','F3','F4','ND1','ND2','ND3','ND4','ND5','ND6','ND7','ND8','ND9','ND91','ND92','ND93','ND94','ND95','F1_filt','F2_filt','F3_filt','F4_filt','ND1_filt','ND2_filt','ND3_filt','ND4_filt','ND5_filt','ND6_filt','ND7_filt','ND8_filt','ND9_filt','ND91_filt','ND92_filt','ND93_filt','ND94_filt','ND95_filt','F1_noisy','F2_noisy','F3_noisy','F4_noisy','ND1_noisy','ND2_noisy','ND3_noisy','ND4_noisy','ND5_noisy','ND6_noisy','ND7_noisy','ND8_noisy','ND9_noisy','ND91_noisy','ND92_noisy','ND93_noisy','ND94_noisy','ND95_noisy']\n",
        "df_Y.columns = columns\n",
        "df_Y.to_csv('signals_dataset.csv',index= False)"
      ],
      "metadata": {
        "id": "MCopFVF2kvfn"
      },
      "execution_count": null,
      "outputs": []
    },
    {
      "cell_type": "markdown",
      "source": [
        "# **IMPORTING DATA**"
      ],
      "metadata": {
        "id": "r6f_zjByMUpZ"
      }
    },
    {
      "cell_type": "code",
      "source": [
        "import pandas as pd\n",
        "import numpy as np\n",
        "import matplotlib.pyplot as plt\n",
        "import torch\n",
        "import torch.nn as nn\n",
        "import torch.optim as optim\n",
        "import torch.utils.data as data\n",
        "from torch.utils.data import DataLoader, Dataset\n",
        "import math\n",
        "from sklearn.model_selection import train_test_split\n",
        "from sklearn.preprocessing import MinMaxScaler"
      ],
      "metadata": {
        "id": "-UEAsGVKHvuK"
      },
      "execution_count": null,
      "outputs": []
    },
    {
      "cell_type": "code",
      "source": [
        "path_data = '/content/drive/MyDrive/DATASET_GSPROJ_TRANSFARCH/signals_dataset.csv'\n",
        "path_labels = '/content/drive/MyDrive/DATASET_GSPROJ_TRANSFARCH/signal_labels.csv'\n",
        "\n",
        "signals_dataset = pd.read_csv(path_data)\n",
        "df_labels = pd.read_csv(path_labels)\n",
        "signals_dataset = np.array(signals_dataset,dtype=\"float32\")\n",
        "labels = np.array(df_labels)"
      ],
      "metadata": {
        "id": "Z2_DrYkfvQTy"
      },
      "execution_count": null,
      "outputs": []
    },
    {
      "cell_type": "code",
      "source": [
        "signals_dataset.dtype"
      ],
      "metadata": {
        "colab": {
          "base_uri": "https://localhost:8080/"
        },
        "id": "PaGs_k3b_gVC",
        "outputId": "bd988ec9-39c5-48a8-81f1-844cab92a127"
      },
      "execution_count": null,
      "outputs": [
        {
          "output_type": "execute_result",
          "data": {
            "text/plain": [
              "dtype('float32')"
            ]
          },
          "metadata": {},
          "execution_count": 3
        }
      ]
    },
    {
      "cell_type": "markdown",
      "source": [
        "# ***CLS_TOKEN & PADDING MASK***"
      ],
      "metadata": {
        "id": "TDdHVqPpfNuv"
      }
    },
    {
      "cell_type": "code",
      "source": [
        "def add_clstoken (dataset,array_to_add):\n",
        "    input = dataset\n",
        "    cls_token = array_to_add\n",
        "    input = np.concatenate = np.concatenate((cls_token, input), axis=1)\n",
        "    return input"
      ],
      "metadata": {
        "id": "dTqc89EzyMAu"
      },
      "execution_count": null,
      "outputs": []
    },
    {
      "cell_type": "code",
      "source": [
        "def create_padding_mask(dataset):\n",
        "    input = dataset\n",
        "    padding_mask = (input != 0).astype(bool)\n",
        "    return padding_mask"
      ],
      "metadata": {
        "id": "JEdC6UOkfM2S"
      },
      "execution_count": null,
      "outputs": []
    },
    {
      "cell_type": "markdown",
      "source": [
        "# **DATALOADER**"
      ],
      "metadata": {
        "id": "U-m_RD0_fgZm"
      }
    },
    {
      "cell_type": "code",
      "source": [
        "cls_token = np.ones(labels.shape, dtype=\"float32\")"
      ],
      "metadata": {
        "id": "U1frUAmOzrPW"
      },
      "execution_count": null,
      "outputs": []
    },
    {
      "cell_type": "code",
      "source": [
        "cls_token.dtype"
      ],
      "metadata": {
        "colab": {
          "base_uri": "https://localhost:8080/"
        },
        "id": "iyifHAmnK51e",
        "outputId": "3ffb86fe-8994-4898-b4e1-29620b560753"
      },
      "execution_count": null,
      "outputs": [
        {
          "output_type": "execute_result",
          "data": {
            "text/plain": [
              "dtype('float32')"
            ]
          },
          "metadata": {},
          "execution_count": 7
        }
      ]
    },
    {
      "cell_type": "code",
      "source": [
        "X = np.transpose(signals_dataset)\n",
        "#y = np.transpose(labels)\n",
        "cls_token = np.transpose(cls_token)\n",
        "X.shape, cls_token.shape"
      ],
      "metadata": {
        "colab": {
          "base_uri": "https://localhost:8080/"
        },
        "id": "JmTBzO4JzPZG",
        "outputId": "ee621b97-b837-4681-fd74-bd54d499771d"
      },
      "execution_count": null,
      "outputs": [
        {
          "output_type": "execute_result",
          "data": {
            "text/plain": [
              "((54, 50002), (54, 1))"
            ]
          },
          "metadata": {},
          "execution_count": 8
        }
      ]
    },
    {
      "cell_type": "code",
      "source": [
        "X_scaled = []\n",
        "# Create a MinMaxScaler object\n",
        "scaler = MinMaxScaler(feature_range=(-1, 1))\n",
        "\n",
        "for i in range(X.shape[0]):\n",
        "    scaler.fit(X[i,:].reshape(-1,1))\n",
        "    scaled_data = scaler.transform(X[i,:].reshape(-1, 1))\n",
        "    X_scaled.append(scaled_data)\n",
        "\n",
        "X_scaled = np.array(X_scaled,dtype=\"float32\").reshape(X.shape[0],X.shape[1])"
      ],
      "metadata": {
        "id": "7seviyMfFN_-"
      },
      "execution_count": null,
      "outputs": []
    },
    {
      "cell_type": "code",
      "source": [
        "plt.plot(X_scaled[6,:])\n",
        "plt.show()"
      ],
      "metadata": {
        "colab": {
          "base_uri": "https://localhost:8080/",
          "height": 430
        },
        "id": "8gHQSLTBFSeW",
        "outputId": "4ce9489f-c5bb-436d-d86a-b97057a5bea9"
      },
      "execution_count": null,
      "outputs": [
        {
          "output_type": "display_data",
          "data": {
            "text/plain": [
              "<Figure size 640x480 with 1 Axes>"
            ],
            "image/png": "[encoded data removed]"
          },
          "metadata": {}
        }
      ]
    },
    {
      "cell_type": "code",
      "source": [
        "X_scaled = add_clstoken(X_scaled,cls_token)"
      ],
      "metadata": {
        "id": "yckNGe-uG8Qt"
      },
      "execution_count": null,
      "outputs": []
    },
    {
      "cell_type": "code",
      "source": [
        "# split data into training and test sets\n",
        "X_train, X_test= train_test_split(X_scaled, test_size=0.25)"
      ],
      "metadata": {
        "id": "QIiImszaxP54"
      },
      "execution_count": null,
      "outputs": []
    },
    {
      "cell_type": "code",
      "source": [
        "X_train_padding_mask = create_padding_mask(X_train)\n",
        "X_test_padding_mask = create_padding_mask(X_test)\n",
        "X_train_padding_mask.shape,X_train_padding_mask, X_test_padding_mask.shape, X_test_padding_mask"
      ],
      "metadata": {
        "colab": {
          "base_uri": "https://localhost:8080/"
        },
        "id": "qDgrCuFSyH1w",
        "outputId": "bc305fc8-c7a6-4158-dffb-f06848a2ac89"
      },
      "execution_count": null,
      "outputs": [
        {
          "output_type": "execute_result",
          "data": {
            "text/plain": [
              "((40, 50003),\n",
              " array([[ True,  True,  True, ...,  True,  True,  True],\n",
              "        [ True,  True,  True, ...,  True,  True,  True],\n",
              "        [ True,  True,  True, ...,  True,  True,  True],\n",
              "        ...,\n",
              "        [ True,  True,  True, ...,  True,  True,  True],\n",
              "        [ True,  True,  True, ...,  True,  True,  True],\n",
              "        [ True,  True,  True, ...,  True,  True,  True]]),\n",
              " (14, 50003),\n",
              " array([[ True,  True,  True, ...,  True,  True,  True],\n",
              "        [ True,  True,  True, ...,  True,  True,  True],\n",
              "        [ True,  True,  True, ...,  True,  True,  True],\n",
              "        ...,\n",
              "        [ True,  True,  True, ...,  True,  True,  True],\n",
              "        [ True,  True,  True, ...,  True,  True,  True],\n",
              "        [ True,  True,  True, ...,  True,  True,  True]]))"
            ]
          },
          "metadata": {},
          "execution_count": 13
        }
      ]
    },
    {
      "cell_type": "code",
      "source": [
        "X_train = torch.from_numpy(X_train)\n",
        "X_test= torch.from_numpy(X_test)\n",
        "X_train_padding_mask = torch.from_numpy(X_train_padding_mask)\n",
        "X_test_padding_mask =  torch.from_numpy(X_test_padding_mask)\n",
        "\n",
        "#torch.tensor([[0.11111, 0.222222, 0.3333333]], dtype=torch.float64, device=torch.device('cuda:0'))"
      ],
      "metadata": {
        "id": "nDN3FHyvF7iu"
      },
      "execution_count": null,
      "outputs": []
    },
    {
      "cell_type": "code",
      "source": [
        "torch.tensor(X_train_padding_mask).dtype"
      ],
      "metadata": {
        "id": "-cpF9crLITFu"
      },
      "execution_count": null,
      "outputs": []
    },
    {
      "cell_type": "code",
      "source": [
        "# Custom dataset class\n",
        "class SignalDataset(Dataset):\n",
        "    def __init__(self, data, padding_mask):\n",
        "        self.data = data\n",
        "        self.padding_mask = padding_mask\n",
        "\n",
        "    def __getitem__(self, index):\n",
        "        signal = self.data[index]\n",
        "        mask = self.padding_mask[index]\n",
        "        return signal, mask\n",
        "\n",
        "    def __len__(self):\n",
        "        return len(self.data)"
      ],
      "metadata": {
        "id": "A_i0qy6hYIm5"
      },
      "execution_count": null,
      "outputs": []
    },
    {
      "cell_type": "code",
      "source": [
        "# Create your dataset instance\n",
        "train_dataset = SignalDataset(X_train, X_train_padding_mask)\n",
        "test_dataset = SignalDataset(X_test, X_test_padding_mask)"
      ],
      "metadata": {
        "id": "d8fNuFkjYUDB"
      },
      "execution_count": null,
      "outputs": []
    },
    {
      "cell_type": "code",
      "source": [
        "# Define your DataLoader with batch size 1\n",
        "batch_size = 16\n",
        "shuffle = True\n",
        "train_dataloader = DataLoader(train_dataset, batch_size=batch_size, shuffle=shuffle)\n",
        "test_dataloader = DataLoader(test_dataset, batch_size=batch_size, shuffle=shuffle)"
      ],
      "metadata": {
        "id": "J_XInDHIYVtB"
      },
      "execution_count": null,
      "outputs": []
    },
    {
      "cell_type": "markdown",
      "source": [
        "# **DL ARCHITECTURE**"
      ],
      "metadata": {
        "id": "b9HSlFI42wW0"
      }
    },
    {
      "cell_type": "markdown",
      "source": [
        "## **Setup**\n",
        "\n",
        "---"
      ],
      "metadata": {
        "id": "DXz7n8zc-bG-"
      }
    },
    {
      "cell_type": "code",
      "source": [
        "device = torch.device(\"cuda\" if torch.cuda.is_available() else \"cpu\")\n",
        "print(device)"
      ],
      "metadata": {
        "id": "rHbifgGz-hTN",
        "colab": {
          "base_uri": "https://localhost:8080/"
        },
        "outputId": "ebc7ea3d-ac23-4c3f-b5fc-019a7005c3ad"
      },
      "execution_count": null,
      "outputs": [
        {
          "output_type": "stream",
          "name": "stdout",
          "text": [
            "cpu\n"
          ]
        }
      ]
    },
    {
      "cell_type": "markdown",
      "source": [
        "## **Model**\n",
        "---"
      ],
      "metadata": {
        "id": "-bNls9vwTxRK"
      }
    },
    {
      "cell_type": "markdown",
      "source": [
        "### *POSITIONAL ENCODING*"
      ],
      "metadata": {
        "id": "Y9d3UhE-Ugpa"
      }
    },
    {
      "cell_type": "code",
      "source": [
        "class PositionalEncoding(nn.Module):\n",
        "    def __init__(self, d_model, max_seq_length):\n",
        "        super(PositionalEncoding, self).__init__()\n",
        "\n",
        "        pe = torch.zeros(max_seq_length, d_model)\n",
        "        position = torch.arange(0, max_seq_length, dtype=torch.float).unsqueeze(1)\n",
        "        div_term = torch.exp(torch.arange(0, d_model, 2).float() * -(math.log(10000.0) / d_model))\n",
        "\n",
        "        pe[:, 0::2] = torch.sin(position * div_term)\n",
        "        pe[:, 1::2] = torch.cos(position * div_term)\n",
        "\n",
        "        self.register_buffer('pe', pe.unsqueeze(0))\n",
        "\n",
        "    def forward(self, x):\n",
        "        return x + self.pe[:, :x.size(1)]"
      ],
      "metadata": {
        "id": "10rxENuaT37K"
      },
      "execution_count": null,
      "outputs": []
    },
    {
      "cell_type": "markdown",
      "source": [
        "### *POSITION-WISE FEED-FORWARD NETWORKS*"
      ],
      "metadata": {
        "id": "KtuuxWqUjM6G"
      }
    },
    {
      "cell_type": "code",
      "source": [
        "class PositionWiseFeedForward(nn.Module):\n",
        "    def __init__(self, d_model, d_ff):\n",
        "        super(PositionWiseFeedForward, self).__init__()\n",
        "        self.fc1 = nn.Linear(d_model, d_ff)\n",
        "        self.fc2 = nn.Linear(d_ff, d_model)\n",
        "        self.relu = nn.ReLU()\n",
        "\n",
        "    def forward(self, x):\n",
        "        return self.fc2(self.relu(self.fc1(x)))"
      ],
      "metadata": {
        "id": "E2a7Z9EwjNVA"
      },
      "execution_count": null,
      "outputs": []
    },
    {
      "cell_type": "markdown",
      "source": [
        "### *MULTI-HEAD ATTENTION*"
      ],
      "metadata": {
        "id": "4o1CP0Rzjiz1"
      }
    },
    {
      "cell_type": "code",
      "source": [
        "class MultiHeadAttention(nn.Module):\n",
        "    def __init__(self, d_model, num_heads):\n",
        "        super(MultiHeadAttention, self).__init__()\n",
        "        assert d_model % num_heads == 0, \"d_model must be divisible by num_heads\"\n",
        "\n",
        "        self.d_model = d_model\n",
        "        self.num_heads = num_heads\n",
        "        self.d_k = d_model // num_heads\n",
        "\n",
        "        self.W_q = nn.Linear(d_model, d_model)\n",
        "        self.W_k = nn.Linear(d_model, d_model)\n",
        "        self.W_v = nn.Linear(d_model, d_model)\n",
        "        self.W_o = nn.Linear(d_model, d_model)\n",
        "\n",
        "    def scaled_dot_product_attention(self, Q, K, V, mask=None):\n",
        "        attn_scores = torch.matmul(Q, K.transpose(-2, -1)) / math.sqrt(self.d_k)\n",
        "        if mask is not None:\n",
        "            attn_scores = attn_scores.masked_fill(mask == 0, -1e9)\n",
        "        attn_probs = torch.softmax(attn_scores, dim=-1)\n",
        "        output = torch.matmul(attn_probs, V)\n",
        "        return output\n",
        "\n",
        "    def split_heads(self, x):\n",
        "        batch_size, seq_length, d_model = x.size()\n",
        "        return x.view(batch_size, seq_length, self.num_heads, self.d_k).transpose(1, 2)\n",
        "\n",
        "    def combine_heads(self, x):\n",
        "        batch_size, _, seq_length, d_k = x.size()\n",
        "        return x.transpose(1, 2).contiguous().view(batch_size, seq_length, self.d_model)\n",
        "\n",
        "    def forward(self, Q, K, V, mask=None):\n",
        "        Q = self.split_heads(self.W_q(Q))\n",
        "        K = self.split_heads(self.W_k(K))\n",
        "        V = self.split_heads(self.W_v(V))\n",
        "\n",
        "        attn_output = self.scaled_dot_product_attention(Q, K, V, mask)\n",
        "        output = self.W_o(self.combine_heads(attn_output))\n",
        "        return output"
      ],
      "metadata": {
        "id": "lFpONQTAjmUg"
      },
      "execution_count": null,
      "outputs": []
    },
    {
      "cell_type": "markdown",
      "source": [
        "### *ENCODER LAYER*"
      ],
      "metadata": {
        "id": "44V_210lWBpM"
      }
    },
    {
      "cell_type": "code",
      "source": [
        "class EncoderLayer(nn.Module):\n",
        "    def __init__(self, d_model, num_heads, d_ff, dropout):\n",
        "        super(EncoderLayer, self).__init__()\n",
        "        self.self_attn = MultiHeadAttention(d_model, num_heads)\n",
        "        self.feed_forward = PositionWiseFeedForward(d_model, d_ff)\n",
        "        self.norm1 = nn.LayerNorm(d_model)\n",
        "        self.norm2 = nn.LayerNorm(d_model)\n",
        "        self.dropout = nn.Dropout(dropout)\n",
        "\n",
        "    def forward(self, x, mask):\n",
        "        attn_output = self.self_attn(x, x, x, mask)\n",
        "        x = self.norm1(x + self.dropout(attn_output))\n",
        "        ff_output = self.feed_forward(x)\n",
        "        x = self.norm2(x + self.dropout(ff_output))\n",
        "        return x"
      ],
      "metadata": {
        "id": "aMDiHK_nWNsq"
      },
      "execution_count": null,
      "outputs": []
    },
    {
      "cell_type": "markdown",
      "source": [
        "### *DECODER LAYER*"
      ],
      "metadata": {
        "id": "Rak_QvTp3NA7"
      }
    },
    {
      "cell_type": "code",
      "source": [
        "class DecoderLayer(nn.Module):\n",
        "    def __init__(self, d_model, num_heads, d_ff, dropout):\n",
        "        super(DecoderLayer, self).__init__()\n",
        "        self.self_attn = MultiHeadAttention(d_model, num_heads)\n",
        "        self.cross_attn = MultiHeadAttention(d_model, num_heads)\n",
        "        self.feed_forward = PositionWiseFeedForward(d_model, d_ff)\n",
        "        self.norm1 = nn.LayerNorm(d_model)\n",
        "        self.norm2 = nn.LayerNorm(d_model)\n",
        "        self.norm3 = nn.LayerNorm(d_model)\n",
        "        self.dropout = nn.Dropout(dropout)\n",
        "\n",
        "    def forward(self, x, enc_output, src_mask, tgt_mask):\n",
        "        attn_output = self.self_attn(x, x, x, tgt_mask)\n",
        "        x = self.norm1(x + self.dropout(attn_output))\n",
        "        attn_output = self.cross_attn(x, enc_output, enc_output, src_mask)\n",
        "        x = self.norm2(x + self.dropout(attn_output))\n",
        "        ff_output = self.feed_forward(x)\n",
        "        x = self.norm3(x + self.dropout(ff_output))\n",
        "        return x"
      ],
      "metadata": {
        "id": "m4e4GZHy3Nwj"
      },
      "execution_count": null,
      "outputs": []
    },
    {
      "cell_type": "markdown",
      "source": [
        "### *TRANSFORMER*"
      ],
      "metadata": {
        "id": "KF1LZkQN3bt8"
      }
    },
    {
      "cell_type": "code",
      "source": [
        "class Transformer(nn.Module):\n",
        "    def __init__(self, src_vocab_size, tgt_vocab_size, d_model, num_heads, num_layers, d_ff, max_seq_length, dropout):\n",
        "        super(Transformer, self).__init__()\n",
        "        self.encoder_embedding = nn.Embedding(src_vocab_size, d_model)\n",
        "        self.decoder_embedding = nn.Embedding(tgt_vocab_size, d_model)\n",
        "        self.positional_encoding = PositionalEncoding(d_model, max_seq_length)\n",
        "\n",
        "        self.encoder_layers = nn.ModuleList([EncoderLayer(d_model, num_heads, d_ff, dropout) for _ in range(num_layers)])\n",
        "        self.decoder_layers = nn.ModuleList([DecoderLayer(d_model, num_heads, d_ff, dropout) for _ in range(num_layers)])\n",
        "\n",
        "        self.fc = nn.Linear(d_model, tgt_vocab_size)\n",
        "        self.dropout = nn.Dropout(dropout)\n",
        "\n",
        "    def generate_mask(self, src, tgt):\n",
        "        src_mask = (src != 0).unsqueeze(1).unsqueeze(2)\n",
        "        tgt_mask = (tgt != 0).unsqueeze(1).unsqueeze(3)\n",
        "        seq_length = tgt.size(1)\n",
        "        nopeak_mask = (1 - torch.triu(torch.ones(1, seq_length, seq_length), diagonal=1)).bool()\n",
        "        tgt_mask = tgt_mask & nopeak_mask\n",
        "        return src_mask, tgt_mask\n",
        "\n",
        "    def forward(self, src, tgt):\n",
        "        src_mask, tgt_mask = self.generate_mask(src, tgt)\n",
        "        src_embedded = self.dropout(self.positional_encoding(self.encoder_embedding(src)))\n",
        "        tgt_embedded = self.dropout(self.positional_encoding(self.decoder_embedding(tgt)))\n",
        "\n",
        "        enc_output = src_embedded\n",
        "        for enc_layer in self.encoder_layers:\n",
        "            enc_output = enc_layer(enc_output, src_mask)\n",
        "\n",
        "        dec_output = tgt_embedded\n",
        "        for dec_layer in self.decoder_layers:\n",
        "            dec_output = dec_layer(dec_output, enc_output, src_mask, tgt_mask)\n",
        "\n",
        "        output = self.fc(dec_output)\n",
        "        return output"
      ],
      "metadata": {
        "id": "OiMIH25h3cOj"
      },
      "execution_count": null,
      "outputs": []
    },
    {
      "cell_type": "markdown",
      "source": [
        "## **Model Training**"
      ],
      "metadata": {
        "id": "x-feAekgW_hZ"
      }
    },
    {
      "cell_type": "code",
      "source": [
        "# Define your hyperparameters and other necessary configurations\n",
        "src_vocab_size = X.shape[1]\n",
        "tgt_vocab_size = X.shape[0]\n",
        "d_model = 512\n",
        "num_heads = 6\n",
        "num_layers = 6\n",
        "d_ff = 2048\n",
        "max_seq_length = 100\n",
        "dropout = 0.1\n",
        "\n",
        "model = Transformer(src_vocab_size, tgt_vocab_size, d_model, num_heads, num_layers, d_ff, max_seq_length, dropout)\n"
      ],
      "metadata": {
        "id": "sdv4jGUEXPt6"
      },
      "execution_count": null,
      "outputs": []
    },
    {
      "cell_type": "code",
      "source": [
        "criterion = nn.CrossEntropyLoss(ignore_index=0)\n",
        "optimizer = optim.Adam(model.parameters(), lr=0.0001, betas=(0.9, 0.98), eps=1e-9)\n",
        "\n",
        "model.train()\n",
        "\n",
        "for epoch in range(100):\n",
        "    optimizer.zero_grad()\n",
        "    output = model(train_data.long(), train_labels[:, :-1].long())\n",
        "    loss = criterion(output.contiguous().view(-1, tgt_vocab_size), train_labels[:, 1:].contiguous().view(-1))\n",
        "    loss.backward()\n",
        "    optimizer.step()\n",
        "    print(f\"Epoch: {epoch+1}, Loss: {loss.item()}\")"
      ],
      "metadata": {
        "id": "fY6OBuWyXSHR"
      },
      "execution_count": null,
      "outputs": []
    },
    {
      "cell_type": "markdown",
      "source": [
        "## **Model Testing**"
      ],
      "metadata": {
        "id": "oAUi4_KXCn8A"
      }
    },
    {
      "cell_type": "code",
      "source": [
        "import seaborn as sn\n",
        "import pandas as pd\n",
        "import matplotlib.pyplot as plt\n",
        "import numpy as np\n",
        "\n",
        "df_cm = pd.DataFrame(array, range(2), range(2))\n",
        "#plt.figure(figsize=(10,7))\n",
        "sn.set(font_scale=1.4) # for label size\n",
        "sn.heatmap(df_cm,fmt=',d', annot=True,cmap = 'Blues', cbar_kws = {\"label\":\"color bar\"},annot_kws={\"size\": 16},\n",
        "           xticklabels = [\"Undamaged\",\"Damaged\"],yticklabels = [\"Undamaged\",\"Damaged\"]) # font size\n",
        "plt.xlabel(\"Predicted\")\n",
        "plt.ylabel(\"Actual\")\n",
        "\n",
        "plt.show()"
      ],
      "metadata": {
        "colab": {
          "base_uri": "https://localhost:8080/",
          "height": 468
        },
        "id": "-65kqZeqCrjQ",
        "outputId": "222bf3af-3cbd-45a6-9de9-20425092fa8a"
      },
      "execution_count": null,
      "outputs": [
        {
          "output_type": "display_data",
          "data": {
            "text/plain": [
              "<Figure size 640x480 with 2 Axes>"
            ],
            "image/png": "[encoded data removed]"
          },
          "metadata": {}
        }
      ]
    },
    {
      "cell_type": "code",
      "source": [],
      "metadata": {
        "id": "NSOM0Lc7FLi5"
      },
      "execution_count": null,
      "outputs": []
    }
  ]
}